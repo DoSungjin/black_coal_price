{
  "nbformat": 4,
  "nbformat_minor": 0,
  "metadata": {
    "colab": {
      "name": "Prophet_Coal.ipynb",
      "provenance": [],
      "collapsed_sections": [],
      "toc_visible": true,
      "authorship_tag": "ABX9TyMM6irD2Mkv8na859lKXhoc",
      "include_colab_link": true
    },
    "kernelspec": {
      "name": "python3",
      "display_name": "Python 3"
    },
    "language_info": {
      "name": "python"
    }
  },
  "cells": [
    {
      "cell_type": "markdown",
      "metadata": {
        "id": "view-in-github",
        "colab_type": "text"
      },
      "source": [
        "<a href=\"https://colab.research.google.com/github/sungjindo/black_coal_price/blob/main/Prophet_Coal.ipynb\" target=\"_parent\"><img src=\"https://colab.research.google.com/assets/colab-badge.svg\" alt=\"Open In Colab\"/></a>"
      ]
    },
    {
      "cell_type": "markdown",
      "source": [
        "# **1.모듈 불러오기**\n",
        "\n",
        "\n",
        "\n",
        "\n",
        "\n",
        "\n"
      ],
      "metadata": {
        "id": "OxbrXEoDiur_"
      }
    },
    {
      "cell_type": "code",
      "execution_count": null,
      "metadata": {
        "colab": {
          "base_uri": "https://localhost:8080/",
          "height": 108
        },
        "id": "0kGQ1iG7iUDH",
        "outputId": "d22a406d-7023-433f-c5bc-2d612f63246b"
      },
      "outputs": [
        {
          "output_type": "display_data",
          "data": {
            "text/html": [
              "        <script type=\"text/javascript\">\n",
              "        window.PlotlyConfig = {MathJaxConfig: 'local'};\n",
              "        if (window.MathJax) {MathJax.Hub.Config({SVG: {font: \"STIX-Web\"}});}\n",
              "        if (typeof require !== 'undefined') {\n",
              "        require.undef(\"plotly\");\n",
              "        requirejs.config({\n",
              "            paths: {\n",
              "                'plotly': ['https://cdn.plot.ly/plotly-2.8.3.min']\n",
              "            }\n",
              "        });\n",
              "        require(['plotly'], function(Plotly) {\n",
              "            window._Plotly = Plotly;\n",
              "        });\n",
              "        }\n",
              "        </script>\n",
              "        "
            ]
          },
          "metadata": {}
        },
        {
          "output_type": "stream",
          "name": "stderr",
          "text": [
            "/usr/local/lib/python3.7/dist-packages/statsmodels/tools/_testing.py:19: FutureWarning:\n",
            "\n",
            "pandas.util.testing is deprecated. Use the functions in the public API at pandas.testing instead.\n",
            "\n"
          ]
        },
        {
          "output_type": "stream",
          "name": "stdout",
          "text": [
            "Mounted at /content/gdrive\n"
          ]
        }
      ],
      "source": [
        "# 기본 라이브러리\n",
        "import pandas as pd\n",
        "import numpy as np\n",
        "import os\n",
        "\n",
        "# 시각화 라이브러리\n",
        "import matplotlib.pyplot as plt\n",
        "import seaborn as sns\n",
        "plt.style.use('seaborn-whitegrid')\n",
        "from plotly.offline import init_notebook_mode, iplot #plotly offline mode \n",
        "init_notebook_mode(connected = True)\n",
        "import plotly.graph_objs as go #plotly graphical object\n",
        "%matplotlib notebook\n",
        "%matplotlib inline\n",
        "\n",
        "# 통계 및 기계학습 관련 라이브러리\n",
        "from scipy import stats    # 통계 관련 라이브러리\n",
        "from sklearn.model_selection import train_test_split, RandomizedSearchCV    # 데이터 셋 분류 라이브러리\n",
        "from sklearn.utils import resample    # 데이터 업샘플링&다운샘플링 라이브러리\n",
        "from imblearn.over_sampling import RandomOverSampler\n",
        "from imblearn.combine import SMOTEENN    # 복합샘플링 라이브러리\n",
        "from sklearn.preprocessing import StandardScaler, MinMaxScaler, RobustScaler    # 데이터 스케일링 라이브러리\n",
        "from statsmodels.stats.outliers_influence import variance_inflation_factor    # 변수 간 다중공선성 확인(VIF) 라이브러리\n",
        "from sklearn.metrics import (accuracy_score, confusion_matrix, classification_report, roc_auc_score, roc_curve, auc, plot_confusion_matrix, plot_roc_curve)    # 모델 정확도 검증 라이브러리\n",
        "from sklearn.model_selection import cross_val_score, train_test_split   # validation  검증 라이브러리\n",
        "\n",
        "import matplotlib.pyplot as plt\n",
        "import matplotlib\n",
        "plt.style.use('seaborn-whitegrid')\n",
        "import statsmodels.api as sm    # 통계분석 관련 라이브러리\n",
        "from statsmodels.graphics.tsaplots import plot_acf, plot_pacf\n",
        "from sklearn.metrics import mean_absolute_error\n",
        "\n",
        "\n",
        "import warnings    # 경고문구 지우기\n",
        "warnings.filterwarnings(\"ignore\")\n",
        "\n",
        "from fbprophet import Prophet\n",
        "from fbprophet.plot import add_changepoints_to_plot\n",
        "from fbprophet.plot import plot_plotly, plot_components_plotly\n",
        "\n",
        "\n",
        "from google.colab import drive\n",
        "drive.mount('/content/gdrive')"
      ]
    },
    {
      "cell_type": "markdown",
      "source": [
        "# **2.data**\n"
      ],
      "metadata": {
        "id": "xh2ILYI-i9BH"
      }
    },
    {
      "cell_type": "code",
      "source": [
        "df = pd.read_csv(\"/content/gdrive/My Drive/Black_coal/data/usethis.csv\", encoding = 'utf-8-sig')\n",
        "df = df.sort_values('ds')\n",
        "df['ds']= pd.to_datetime(df['ds'])\n",
        "\n",
        "df = df.set_index('ds')\n",
        "df = df[df.index < '2019-04-01']\n",
        "df = df.reset_index()\n",
        "df"
      ],
      "metadata": {
        "colab": {
          "base_uri": "https://localhost:8080/",
          "height": 661
        },
        "id": "zPi2_wC-ijyh",
        "outputId": "30d80850-547f-4cc4-887f-160f95b6ef25"
      },
      "execution_count": null,
      "outputs": [
        {
          "output_type": "execute_result",
          "data": {
            "text/plain": [
              "             ds    Coal    iron  Brent_fut  copper_fut  WTI_fut    WTI  \\\n",
              "0    2011-01-01  122.65  168.30      94.75     9644.00    91.38  91.40   \n",
              "1    2011-01-02  122.65  168.30      94.75     9644.00    91.38  91.40   \n",
              "2    2011-01-03  136.50  170.00      94.84     9644.00    91.55  91.56   \n",
              "3    2011-01-04  137.30  172.10      93.53     9619.25    89.38  89.23   \n",
              "4    2011-01-05  130.65  174.50      95.50     9586.00    90.30  90.38   \n",
              "...         ...     ...     ...        ...         ...      ...    ...   \n",
              "3007 2019-03-27   93.50   85.72      67.83     6336.00    59.41  59.12   \n",
              "3008 2019-03-28   92.95   85.64      67.82     6368.75    59.30  59.30   \n",
              "3009 2019-03-29   92.75   85.70      68.39     6475.75    60.14  59.98   \n",
              "3010 2019-03-30   92.75   85.70      68.39     6475.75    60.14  59.98   \n",
              "3011 2019-03-31   92.75   85.70      68.39     6475.75    60.14  60.17   \n",
              "\n",
              "      LNG_fut     BDI  AUD_dollar  ...         FTSE           DAX  \\\n",
              "0       61.07  1773.0     0.98447  ...  5899.899902   6914.189941   \n",
              "1       61.07  1773.0     0.98447  ...  5899.899902   6914.189941   \n",
              "2       61.07  1773.0     0.97901  ...  5899.899902   6989.740234   \n",
              "3       58.32  1693.0     0.98337  ...  6013.899902   6975.350098   \n",
              "4       56.40  1621.0     0.99285  ...  6043.899902   6939.819824   \n",
              "...       ...     ...         ...  ...          ...           ...   \n",
              "3007    37.47   690.0     1.40115  ...  7194.200195  11419.040039   \n",
              "3008    36.05   692.0     1.41153  ...  7234.299805  11428.160156   \n",
              "3009    34.61   689.0     1.41180  ...  7279.200195  11526.040039   \n",
              "3010    34.61   689.0     1.41180  ...  7279.200195  11526.040039   \n",
              "3011    34.61   689.0     1.41180  ...  7279.200195  11526.040039   \n",
              "\n",
              "           S&P500           HSI         IXIC        KOSPI     Nikkei225  \\\n",
              "0     1257.640015  23035.449219  2652.870117  2051.000000  10228.919922   \n",
              "1     1257.640015  23035.449219  2652.870117  2051.000000  10228.919922   \n",
              "2     1271.869995  23436.050781  2691.520020  2070.080078  10228.919922   \n",
              "3     1270.199951  23668.480469  2681.250000  2085.139893  10398.099609   \n",
              "4     1276.560059  23757.820312  2702.199951  2082.550049  10380.769531   \n",
              "...           ...           ...          ...          ...           ...   \n",
              "3007  2805.370117  28728.250000  7643.379883  2145.620117  21378.730469   \n",
              "3008  2815.439941  28775.210938  7669.169922  2128.100098  21033.759766   \n",
              "3009  2834.399902  29051.359375  7729.319824  2140.669922  21205.810547   \n",
              "3010  2834.399902  29051.359375  7729.319824  2140.669922  21205.810547   \n",
              "3011  2834.399902  29051.359375  7729.319824  2140.669922  21205.810547   \n",
              "\n",
              "             SX5E          ASX           TSX  \n",
              "0     2807.040039  4745.200195  13443.200195  \n",
              "1     2807.040039  4745.200195  13443.200195  \n",
              "2     2839.429932  4745.200195  13443.200195  \n",
              "3     2844.169922  4742.500000  13402.299805  \n",
              "4     2833.739990  4714.899902  13396.000000  \n",
              "...           ...          ...           ...  \n",
              "3007  3322.040039  6136.000000  16132.500000  \n",
              "3008  3320.290039  6176.100098  16155.500000  \n",
              "3009  3351.709961  6180.700195  16102.099609  \n",
              "3010  3351.709961  6180.700195  16102.099609  \n",
              "3011  3351.709961  6180.700195  16102.099609  \n",
              "\n",
              "[3012 rows x 31 columns]"
            ],
            "text/html": [
              "\n",
              "  <div id=\"df-cf402bd2-59af-4b32-9daf-22b0b4976ff6\">\n",
              "    <div class=\"colab-df-container\">\n",
              "      <div>\n",
              "<style scoped>\n",
              "    .dataframe tbody tr th:only-of-type {\n",
              "        vertical-align: middle;\n",
              "    }\n",
              "\n",
              "    .dataframe tbody tr th {\n",
              "        vertical-align: top;\n",
              "    }\n",
              "\n",
              "    .dataframe thead th {\n",
              "        text-align: right;\n",
              "    }\n",
              "</style>\n",
              "<table border=\"1\" class=\"dataframe\">\n",
              "  <thead>\n",
              "    <tr style=\"text-align: right;\">\n",
              "      <th></th>\n",
              "      <th>ds</th>\n",
              "      <th>Coal</th>\n",
              "      <th>iron</th>\n",
              "      <th>Brent_fut</th>\n",
              "      <th>copper_fut</th>\n",
              "      <th>WTI_fut</th>\n",
              "      <th>WTI</th>\n",
              "      <th>LNG_fut</th>\n",
              "      <th>BDI</th>\n",
              "      <th>AUD_dollar</th>\n",
              "      <th>...</th>\n",
              "      <th>FTSE</th>\n",
              "      <th>DAX</th>\n",
              "      <th>S&amp;P500</th>\n",
              "      <th>HSI</th>\n",
              "      <th>IXIC</th>\n",
              "      <th>KOSPI</th>\n",
              "      <th>Nikkei225</th>\n",
              "      <th>SX5E</th>\n",
              "      <th>ASX</th>\n",
              "      <th>TSX</th>\n",
              "    </tr>\n",
              "  </thead>\n",
              "  <tbody>\n",
              "    <tr>\n",
              "      <th>0</th>\n",
              "      <td>2011-01-01</td>\n",
              "      <td>122.65</td>\n",
              "      <td>168.30</td>\n",
              "      <td>94.75</td>\n",
              "      <td>9644.00</td>\n",
              "      <td>91.38</td>\n",
              "      <td>91.40</td>\n",
              "      <td>61.07</td>\n",
              "      <td>1773.0</td>\n",
              "      <td>0.98447</td>\n",
              "      <td>...</td>\n",
              "      <td>5899.899902</td>\n",
              "      <td>6914.189941</td>\n",
              "      <td>1257.640015</td>\n",
              "      <td>23035.449219</td>\n",
              "      <td>2652.870117</td>\n",
              "      <td>2051.000000</td>\n",
              "      <td>10228.919922</td>\n",
              "      <td>2807.040039</td>\n",
              "      <td>4745.200195</td>\n",
              "      <td>13443.200195</td>\n",
              "    </tr>\n",
              "    <tr>\n",
              "      <th>1</th>\n",
              "      <td>2011-01-02</td>\n",
              "      <td>122.65</td>\n",
              "      <td>168.30</td>\n",
              "      <td>94.75</td>\n",
              "      <td>9644.00</td>\n",
              "      <td>91.38</td>\n",
              "      <td>91.40</td>\n",
              "      <td>61.07</td>\n",
              "      <td>1773.0</td>\n",
              "      <td>0.98447</td>\n",
              "      <td>...</td>\n",
              "      <td>5899.899902</td>\n",
              "      <td>6914.189941</td>\n",
              "      <td>1257.640015</td>\n",
              "      <td>23035.449219</td>\n",
              "      <td>2652.870117</td>\n",
              "      <td>2051.000000</td>\n",
              "      <td>10228.919922</td>\n",
              "      <td>2807.040039</td>\n",
              "      <td>4745.200195</td>\n",
              "      <td>13443.200195</td>\n",
              "    </tr>\n",
              "    <tr>\n",
              "      <th>2</th>\n",
              "      <td>2011-01-03</td>\n",
              "      <td>136.50</td>\n",
              "      <td>170.00</td>\n",
              "      <td>94.84</td>\n",
              "      <td>9644.00</td>\n",
              "      <td>91.55</td>\n",
              "      <td>91.56</td>\n",
              "      <td>61.07</td>\n",
              "      <td>1773.0</td>\n",
              "      <td>0.97901</td>\n",
              "      <td>...</td>\n",
              "      <td>5899.899902</td>\n",
              "      <td>6989.740234</td>\n",
              "      <td>1271.869995</td>\n",
              "      <td>23436.050781</td>\n",
              "      <td>2691.520020</td>\n",
              "      <td>2070.080078</td>\n",
              "      <td>10228.919922</td>\n",
              "      <td>2839.429932</td>\n",
              "      <td>4745.200195</td>\n",
              "      <td>13443.200195</td>\n",
              "    </tr>\n",
              "    <tr>\n",
              "      <th>3</th>\n",
              "      <td>2011-01-04</td>\n",
              "      <td>137.30</td>\n",
              "      <td>172.10</td>\n",
              "      <td>93.53</td>\n",
              "      <td>9619.25</td>\n",
              "      <td>89.38</td>\n",
              "      <td>89.23</td>\n",
              "      <td>58.32</td>\n",
              "      <td>1693.0</td>\n",
              "      <td>0.98337</td>\n",
              "      <td>...</td>\n",
              "      <td>6013.899902</td>\n",
              "      <td>6975.350098</td>\n",
              "      <td>1270.199951</td>\n",
              "      <td>23668.480469</td>\n",
              "      <td>2681.250000</td>\n",
              "      <td>2085.139893</td>\n",
              "      <td>10398.099609</td>\n",
              "      <td>2844.169922</td>\n",
              "      <td>4742.500000</td>\n",
              "      <td>13402.299805</td>\n",
              "    </tr>\n",
              "    <tr>\n",
              "      <th>4</th>\n",
              "      <td>2011-01-05</td>\n",
              "      <td>130.65</td>\n",
              "      <td>174.50</td>\n",
              "      <td>95.50</td>\n",
              "      <td>9586.00</td>\n",
              "      <td>90.30</td>\n",
              "      <td>90.38</td>\n",
              "      <td>56.40</td>\n",
              "      <td>1621.0</td>\n",
              "      <td>0.99285</td>\n",
              "      <td>...</td>\n",
              "      <td>6043.899902</td>\n",
              "      <td>6939.819824</td>\n",
              "      <td>1276.560059</td>\n",
              "      <td>23757.820312</td>\n",
              "      <td>2702.199951</td>\n",
              "      <td>2082.550049</td>\n",
              "      <td>10380.769531</td>\n",
              "      <td>2833.739990</td>\n",
              "      <td>4714.899902</td>\n",
              "      <td>13396.000000</td>\n",
              "    </tr>\n",
              "    <tr>\n",
              "      <th>...</th>\n",
              "      <td>...</td>\n",
              "      <td>...</td>\n",
              "      <td>...</td>\n",
              "      <td>...</td>\n",
              "      <td>...</td>\n",
              "      <td>...</td>\n",
              "      <td>...</td>\n",
              "      <td>...</td>\n",
              "      <td>...</td>\n",
              "      <td>...</td>\n",
              "      <td>...</td>\n",
              "      <td>...</td>\n",
              "      <td>...</td>\n",
              "      <td>...</td>\n",
              "      <td>...</td>\n",
              "      <td>...</td>\n",
              "      <td>...</td>\n",
              "      <td>...</td>\n",
              "      <td>...</td>\n",
              "      <td>...</td>\n",
              "      <td>...</td>\n",
              "    </tr>\n",
              "    <tr>\n",
              "      <th>3007</th>\n",
              "      <td>2019-03-27</td>\n",
              "      <td>93.50</td>\n",
              "      <td>85.72</td>\n",
              "      <td>67.83</td>\n",
              "      <td>6336.00</td>\n",
              "      <td>59.41</td>\n",
              "      <td>59.12</td>\n",
              "      <td>37.47</td>\n",
              "      <td>690.0</td>\n",
              "      <td>1.40115</td>\n",
              "      <td>...</td>\n",
              "      <td>7194.200195</td>\n",
              "      <td>11419.040039</td>\n",
              "      <td>2805.370117</td>\n",
              "      <td>28728.250000</td>\n",
              "      <td>7643.379883</td>\n",
              "      <td>2145.620117</td>\n",
              "      <td>21378.730469</td>\n",
              "      <td>3322.040039</td>\n",
              "      <td>6136.000000</td>\n",
              "      <td>16132.500000</td>\n",
              "    </tr>\n",
              "    <tr>\n",
              "      <th>3008</th>\n",
              "      <td>2019-03-28</td>\n",
              "      <td>92.95</td>\n",
              "      <td>85.64</td>\n",
              "      <td>67.82</td>\n",
              "      <td>6368.75</td>\n",
              "      <td>59.30</td>\n",
              "      <td>59.30</td>\n",
              "      <td>36.05</td>\n",
              "      <td>692.0</td>\n",
              "      <td>1.41153</td>\n",
              "      <td>...</td>\n",
              "      <td>7234.299805</td>\n",
              "      <td>11428.160156</td>\n",
              "      <td>2815.439941</td>\n",
              "      <td>28775.210938</td>\n",
              "      <td>7669.169922</td>\n",
              "      <td>2128.100098</td>\n",
              "      <td>21033.759766</td>\n",
              "      <td>3320.290039</td>\n",
              "      <td>6176.100098</td>\n",
              "      <td>16155.500000</td>\n",
              "    </tr>\n",
              "    <tr>\n",
              "      <th>3009</th>\n",
              "      <td>2019-03-29</td>\n",
              "      <td>92.75</td>\n",
              "      <td>85.70</td>\n",
              "      <td>68.39</td>\n",
              "      <td>6475.75</td>\n",
              "      <td>60.14</td>\n",
              "      <td>59.98</td>\n",
              "      <td>34.61</td>\n",
              "      <td>689.0</td>\n",
              "      <td>1.41180</td>\n",
              "      <td>...</td>\n",
              "      <td>7279.200195</td>\n",
              "      <td>11526.040039</td>\n",
              "      <td>2834.399902</td>\n",
              "      <td>29051.359375</td>\n",
              "      <td>7729.319824</td>\n",
              "      <td>2140.669922</td>\n",
              "      <td>21205.810547</td>\n",
              "      <td>3351.709961</td>\n",
              "      <td>6180.700195</td>\n",
              "      <td>16102.099609</td>\n",
              "    </tr>\n",
              "    <tr>\n",
              "      <th>3010</th>\n",
              "      <td>2019-03-30</td>\n",
              "      <td>92.75</td>\n",
              "      <td>85.70</td>\n",
              "      <td>68.39</td>\n",
              "      <td>6475.75</td>\n",
              "      <td>60.14</td>\n",
              "      <td>59.98</td>\n",
              "      <td>34.61</td>\n",
              "      <td>689.0</td>\n",
              "      <td>1.41180</td>\n",
              "      <td>...</td>\n",
              "      <td>7279.200195</td>\n",
              "      <td>11526.040039</td>\n",
              "      <td>2834.399902</td>\n",
              "      <td>29051.359375</td>\n",
              "      <td>7729.319824</td>\n",
              "      <td>2140.669922</td>\n",
              "      <td>21205.810547</td>\n",
              "      <td>3351.709961</td>\n",
              "      <td>6180.700195</td>\n",
              "      <td>16102.099609</td>\n",
              "    </tr>\n",
              "    <tr>\n",
              "      <th>3011</th>\n",
              "      <td>2019-03-31</td>\n",
              "      <td>92.75</td>\n",
              "      <td>85.70</td>\n",
              "      <td>68.39</td>\n",
              "      <td>6475.75</td>\n",
              "      <td>60.14</td>\n",
              "      <td>60.17</td>\n",
              "      <td>34.61</td>\n",
              "      <td>689.0</td>\n",
              "      <td>1.41180</td>\n",
              "      <td>...</td>\n",
              "      <td>7279.200195</td>\n",
              "      <td>11526.040039</td>\n",
              "      <td>2834.399902</td>\n",
              "      <td>29051.359375</td>\n",
              "      <td>7729.319824</td>\n",
              "      <td>2140.669922</td>\n",
              "      <td>21205.810547</td>\n",
              "      <td>3351.709961</td>\n",
              "      <td>6180.700195</td>\n",
              "      <td>16102.099609</td>\n",
              "    </tr>\n",
              "  </tbody>\n",
              "</table>\n",
              "<p>3012 rows × 31 columns</p>\n",
              "</div>\n",
              "      <button class=\"colab-df-convert\" onclick=\"convertToInteractive('df-cf402bd2-59af-4b32-9daf-22b0b4976ff6')\"\n",
              "              title=\"Convert this dataframe to an interactive table.\"\n",
              "              style=\"display:none;\">\n",
              "        \n",
              "  <svg xmlns=\"http://www.w3.org/2000/svg\" height=\"24px\"viewBox=\"0 0 24 24\"\n",
              "       width=\"24px\">\n",
              "    <path d=\"M0 0h24v24H0V0z\" fill=\"none\"/>\n",
              "    <path d=\"M18.56 5.44l.94 2.06.94-2.06 2.06-.94-2.06-.94-.94-2.06-.94 2.06-2.06.94zm-11 1L8.5 8.5l.94-2.06 2.06-.94-2.06-.94L8.5 2.5l-.94 2.06-2.06.94zm10 10l.94 2.06.94-2.06 2.06-.94-2.06-.94-.94-2.06-.94 2.06-2.06.94z\"/><path d=\"M17.41 7.96l-1.37-1.37c-.4-.4-.92-.59-1.43-.59-.52 0-1.04.2-1.43.59L10.3 9.45l-7.72 7.72c-.78.78-.78 2.05 0 2.83L4 21.41c.39.39.9.59 1.41.59.51 0 1.02-.2 1.41-.59l7.78-7.78 2.81-2.81c.8-.78.8-2.07 0-2.86zM5.41 20L4 18.59l7.72-7.72 1.47 1.35L5.41 20z\"/>\n",
              "  </svg>\n",
              "      </button>\n",
              "      \n",
              "  <style>\n",
              "    .colab-df-container {\n",
              "      display:flex;\n",
              "      flex-wrap:wrap;\n",
              "      gap: 12px;\n",
              "    }\n",
              "\n",
              "    .colab-df-convert {\n",
              "      background-color: #E8F0FE;\n",
              "      border: none;\n",
              "      border-radius: 50%;\n",
              "      cursor: pointer;\n",
              "      display: none;\n",
              "      fill: #1967D2;\n",
              "      height: 32px;\n",
              "      padding: 0 0 0 0;\n",
              "      width: 32px;\n",
              "    }\n",
              "\n",
              "    .colab-df-convert:hover {\n",
              "      background-color: #E2EBFA;\n",
              "      box-shadow: 0px 1px 2px rgba(60, 64, 67, 0.3), 0px 1px 3px 1px rgba(60, 64, 67, 0.15);\n",
              "      fill: #174EA6;\n",
              "    }\n",
              "\n",
              "    [theme=dark] .colab-df-convert {\n",
              "      background-color: #3B4455;\n",
              "      fill: #D2E3FC;\n",
              "    }\n",
              "\n",
              "    [theme=dark] .colab-df-convert:hover {\n",
              "      background-color: #434B5C;\n",
              "      box-shadow: 0px 1px 3px 1px rgba(0, 0, 0, 0.15);\n",
              "      filter: drop-shadow(0px 1px 2px rgba(0, 0, 0, 0.3));\n",
              "      fill: #FFFFFF;\n",
              "    }\n",
              "  </style>\n",
              "\n",
              "      <script>\n",
              "        const buttonEl =\n",
              "          document.querySelector('#df-cf402bd2-59af-4b32-9daf-22b0b4976ff6 button.colab-df-convert');\n",
              "        buttonEl.style.display =\n",
              "          google.colab.kernel.accessAllowed ? 'block' : 'none';\n",
              "\n",
              "        async function convertToInteractive(key) {\n",
              "          const element = document.querySelector('#df-cf402bd2-59af-4b32-9daf-22b0b4976ff6');\n",
              "          const dataTable =\n",
              "            await google.colab.kernel.invokeFunction('convertToInteractive',\n",
              "                                                     [key], {});\n",
              "          if (!dataTable) return;\n",
              "\n",
              "          const docLinkHtml = 'Like what you see? Visit the ' +\n",
              "            '<a target=\"_blank\" href=https://colab.research.google.com/notebooks/data_table.ipynb>data table notebook</a>'\n",
              "            + ' to learn more about interactive tables.';\n",
              "          element.innerHTML = '';\n",
              "          dataTable['output_type'] = 'display_data';\n",
              "          await google.colab.output.renderOutput(dataTable, element);\n",
              "          const docLink = document.createElement('div');\n",
              "          docLink.innerHTML = docLinkHtml;\n",
              "          element.appendChild(docLink);\n",
              "        }\n",
              "      </script>\n",
              "    </div>\n",
              "  </div>\n",
              "  "
            ]
          },
          "metadata": {},
          "execution_count": 25
        }
      ]
    },
    {
      "cell_type": "markdown",
      "source": [
        "# **3.Prophet model**\n",
        "  -Basic"
      ],
      "metadata": {
        "id": "L9aN6vJA1x2j"
      }
    },
    {
      "cell_type": "markdown",
      "source": [
        "##3.1 2019년 1분기"
      ],
      "metadata": {
        "id": "6wClszFw5JRE"
      }
    },
    {
      "cell_type": "code",
      "source": [
        "def prophetm(df, z, x, y , d_start) :\n",
        "  \n",
        "        #a = prophetm(z, x, y) \n",
        "        df1 = df[['ds', z]]\n",
        "      \n",
        "    \n",
        "        df1.columns = ['ds', 'y']\n",
        "        df1['ds']= pd.to_datetime(df1['ds'])\n",
        "        \n",
        "      \n",
        "        train = df1.drop(df.index[x:])\n",
        "        y_true = df1['y'][y:].values \n",
        "        \n",
        "      \n",
        "        last_1year = pd.date_range(d_start, periods=90)\n",
        "        last_1year = list(last_1year)\n",
        "        last_1year = pd.DataFrame(last_1year, columns = ['ds'])\n",
        "        last_1year['ds']= pd.to_datetime(last_1year['ds'])\n",
        "        m = Prophet(\n",
        "        # trend\n",
        "                changepoint_prior_scale=0.05,\n",
        "        # seasonality\n",
        "                weekly_seasonality=10,\n",
        "                yearly_seasonality=20,\n",
        "              daily_seasonality=False,)\n",
        "        m.add_seasonality(name='monthly', period=30.5, fourier_order=5)\n",
        "        forecast = m.fit(train).predict(last_1year)\n",
        "        # fig = m.plot_components(forecast)\n",
        "        # a = add_changepoints_to_plot(fig.gca(), m, forecast)\n",
        "        y_pred = forecast['yhat'].values\n",
        "       \n",
        "        return y_pred, last_1year['ds'], y_true\n",
        "      \n",
        "# z = str(input('컬럼명 입력(''제외 입력): '))\n",
        "# x = int(input('삭제할 주 단위를 입력해주세요(-붙여서): '))\n",
        "# y = int(input('필요한 y값의 월 단위를 입력해주세요(-붙여서): '))\n",
        "\n",
        "\n",
        "\n",
        "\n",
        "# print('-------------done------------')\n",
        "# print('y_pred result: {} '  .format(y_pred))\n"
      ],
      "metadata": {
        "id": "-D3v_rHNLIAA"
      },
      "execution_count": null,
      "outputs": []
    },
    {
      "cell_type": "code",
      "source": [
        "\n",
        "y_tt = prophetm(df, 'Coal', -90, -90,'2019-01-01')\n",
        "y_tt = pd.DataFrame(y_tt)\n",
        "y_tt = y_tt.T\n",
        "y_tr = y_tt[[1,2]]\n",
        "y_tr = y_tr.rename(columns ={2:'y_true',1:'ds'})\n",
        "y_tt = y_tt[[1,0]]\n",
        "y_tt = y_tt.rename(columns ={0:'y_pred',1:'ds'})\n",
        "# print(y_tt)\n",
        "# print(y_true)\n",
        "\n",
        "# 예측하고 비교하기\n",
        "# 여기에서는 MAE를 살펴본다.\n",
        "\n",
        "y_pred = y_tt['y_pred'].values\n",
        "y_true = y_tr['y_true'].values\n",
        "from sklearn.metrics import mean_absolute_error, mean_absolute_percentage_error\n",
        "mae = mean_absolute_error(y_true, y_pred)\n",
        "mape = mean_absolute_percentage_error(y_true, y_pred)\n",
        "\n",
        "print('MAE: %.3f' % mae)\n",
        "print('MAPE: %.3f' % mape)\n",
        "plt.plot(y_true, label='Actual')\n",
        "plt.plot(y_pred, label='Predicted')\n",
        "plt.legend()\n",
        "plt.show()"
      ],
      "metadata": {
        "id": "gA9tnhi_e336",
        "colab": {
          "base_uri": "https://localhost:8080/",
          "height": 298
        },
        "outputId": "6ff9bf72-a1fb-44fe-af6c-91e3a4777c7d"
      },
      "execution_count": null,
      "outputs": [
        {
          "output_type": "stream",
          "name": "stdout",
          "text": [
            "MAE: 22.975\n",
            "MAPE: 0.238\n"
          ]
        },
        {
          "output_type": "display_data",
          "data": {
            "text/plain": [
              "<Figure size 432x288 with 1 Axes>"
            ],
            "image/png": "[encoded data removed]"
          },
          "metadata": {
            "needs_background": "light"
          }
        }
      ]
    },
    {
      "cell_type": "markdown",
      "source": [
        "##3.2 2019년 2분기"
      ],
      "metadata": {
        "id": "19eeE9DV5OXi"
      }
    },
    {
      "cell_type": "code",
      "source": [
        "df = pd.read_csv(\"/content/gdrive/My Drive/Black_coal/data/usethis.csv\", encoding = 'utf-8-sig')\n",
        "df = df.sort_values('ds')\n",
        "df['ds']= pd.to_datetime(df['ds'])\n",
        "\n",
        "df = df.set_index('ds')\n",
        "df = df[df.index < '2019-07-01']\n",
        "df = df.reset_index()\n",
        "\n",
        "\n",
        "y_tt = prophetm(df, 'Coal', -90, -90,'2019-07-01')\n",
        "y_tt = pd.DataFrame(y_tt)\n",
        "y_tt = y_tt.T\n",
        "y_tr = y_tt[[1,2]]\n",
        "y_tr = y_tr.rename(columns ={2:'y_true',1:'ds'})\n",
        "y_tt = y_tt[[1,0]]\n",
        "y_tt = y_tt.rename(columns ={0:'y_pred',1:'ds'})\n",
        "\n",
        "y_pred = y_tt['y_pred'].values\n",
        "y_true = y_tr['y_true'].values\n",
        "mae = mean_absolute_error(y_true, y_pred)\n",
        "mape = mean_absolute_percentage_error(y_true, y_pred)\n",
        "\n",
        "print('MAE: %.3f' % mae)\n",
        "print('MAPE: %.3f' % mape)\n",
        "plt.plot(y_true, label='Actual')\n",
        "plt.plot(y_pred, label='Predicted')\n",
        "plt.legend()\n",
        "plt.show()"
      ],
      "metadata": {
        "colab": {
          "base_uri": "https://localhost:8080/",
          "height": 298
        },
        "id": "6-lMw81V5SjY",
        "outputId": "87f479fd-45cf-4931-bb7c-9291719c2ffc"
      },
      "execution_count": null,
      "outputs": [
        {
          "output_type": "stream",
          "name": "stdout",
          "text": [
            "MAE: 31.012\n",
            "MAPE: 0.395\n"
          ]
        },
        {
          "output_type": "display_data",
          "data": {
            "text/plain": [
              "<Figure size 432x288 with 1 Axes>"
            ],
            "image/png": "[encoded data removed]"
          },
          "metadata": {
            "needs_background": "light"
          }
        }
      ]
    },
    {
      "cell_type": "markdown",
      "source": [
        "##3.3 2019년 3분기"
      ],
      "metadata": {
        "id": "t_Y6EXM56s-H"
      }
    },
    {
      "cell_type": "code",
      "source": [
        "df = pd.read_csv(\"/content/gdrive/My Drive/Black_coal/data/usethis.csv\", encoding = 'utf-8-sig')\n",
        "df = df.sort_values('ds')\n",
        "df['ds']= pd.to_datetime(df['ds'])\n",
        "\n",
        "df = df.set_index('ds')\n",
        "df = df[df.index < '2019-10-01']\n",
        "df = df.reset_index()\n",
        "\n",
        "\n",
        "y_tt = prophetm(df, 'Coal', -90, -90,'2019-10-01')\n",
        "y_tt = pd.DataFrame(y_tt)\n",
        "y_tt = y_tt.T\n",
        "y_tr = y_tt[[1,2]]\n",
        "y_tr = y_tr.rename(columns ={2:'y_true',1:'ds'})\n",
        "y_tt = y_tt[[1,0]]\n",
        "y_tt = y_tt.rename(columns ={0:'y_pred',1:'ds'})\n",
        "\n",
        "y_pred = y_tt['y_pred'].values\n",
        "y_true = y_tr['y_true'].values\n",
        "mae = mean_absolute_error(y_true, y_pred)\n",
        "mape = mean_absolute_percentage_error(y_true, y_pred)\n",
        "\n",
        "print('MAE: %.3f' % mae)\n",
        "print('MAPE: %.3f' % mape)\n",
        "plt.plot(y_true, label='Actual')\n",
        "plt.plot(y_pred, label='Predicted')\n",
        "plt.legend()\n",
        "plt.show()"
      ],
      "metadata": {
        "colab": {
          "base_uri": "https://localhost:8080/",
          "height": 298
        },
        "id": "h9AKopcj5qBU",
        "outputId": "c9354f69-2c7c-4129-d6ed-e85a36476563"
      },
      "execution_count": null,
      "outputs": [
        {
          "output_type": "stream",
          "name": "stdout",
          "text": [
            "MAE: 26.112\n",
            "MAPE: 0.383\n"
          ]
        },
        {
          "output_type": "display_data",
          "data": {
            "text/plain": [
              "<Figure size 432x288 with 1 Axes>"
            ],
            "image/png": "[encoded data removed]"
          },
          "metadata": {
            "needs_background": "light"
          }
        }
      ]
    },
    {
      "cell_type": "markdown",
      "source": [
        "##3.4 2019년 4분기"
      ],
      "metadata": {
        "id": "EPPDsQi066Lh"
      }
    },
    {
      "cell_type": "code",
      "source": [
        "df = pd.read_csv(\"/content/gdrive/My Drive/Black_coal/data/usethis.csv\", encoding = 'utf-8-sig')\n",
        "df = df.sort_values('ds')\n",
        "df['ds']= pd.to_datetime(df['ds'])\n",
        "\n",
        "df = df.set_index('ds')\n",
        "df = df[df.index < '2020-01-01']\n",
        "df = df.reset_index()\n",
        "\n",
        "\n",
        "y_tt = prophetm(df, 'Coal', -90, -90,'2020-01-01')\n",
        "y_tt = pd.DataFrame(y_tt)\n",
        "y_tt = y_tt.T\n",
        "y_tr = y_tt[[1,2]]\n",
        "y_tr = y_tr.rename(columns ={2:'y_true',1:'ds'})\n",
        "y_tt = y_tt[[1,0]]\n",
        "y_tt = y_tt.rename(columns ={0:'y_pred',1:'ds'})\n",
        "\n",
        "y_pred = y_tt['y_pred'].values\n",
        "y_true = y_tr['y_true'].values\n",
        "mae = mean_absolute_error(y_true, y_pred)\n",
        "mape = mean_absolute_percentage_error(y_true, y_pred)\n",
        "\n",
        "print('MAE: %.3f' % mae)\n",
        "print('MAPE: %.3f' % mape)\n",
        "plt.plot(y_true, label='Actual')\n",
        "plt.plot(y_pred, label='Predicted')\n",
        "plt.legend()\n",
        "plt.show()"
      ],
      "metadata": {
        "colab": {
          "base_uri": "https://localhost:8080/",
          "height": 298
        },
        "id": "3RMhFoLs64NV",
        "outputId": "33d5e931-9187-47e7-dbba-acf40bfd46f9"
      },
      "execution_count": null,
      "outputs": [
        {
          "output_type": "stream",
          "name": "stdout",
          "text": [
            "MAE: 5.714\n",
            "MAPE: 0.085\n"
          ]
        },
        {
          "output_type": "display_data",
          "data": {
            "text/plain": [
              "<Figure size 432x288 with 1 Axes>"
            ],
            "image/png": "[encoded data removed]"
          },
          "metadata": {
            "needs_background": "light"
          }
        }
      ]
    },
    {
      "cell_type": "code",
      "source": [
        ""
      ],
      "metadata": {
        "id": "3hfIdS7E7D6d"
      },
      "execution_count": null,
      "outputs": []
    }
  ]
}